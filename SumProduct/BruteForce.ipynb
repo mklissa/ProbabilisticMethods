{
 "cells": [
  {
   "cell_type": "code",
   "execution_count": 3,
   "metadata": {
    "collapsed": true
   },
   "outputs": [],
   "source": [
    "import numpy as np\n",
    "import matplotlib.pyplot as plt\n",
    "from IPython.display import Latex"
   ]
  },
  {
   "cell_type": "markdown",
   "metadata": {
    "collapsed": false
   },
   "source": [
    "\n",
    "Selon la figure de la question 2, nous pouvons calculer la probabilite conjointe comme suit:\n",
    "\n",
    "$$P(C,T,A,M,J) = P(C) \\cdot P(T) \\cdot P(A|T,C) \\cdot P(M|A) \\cdot P(J|A)$$\n",
    "\n",
    "Comme toutes les données nous sont données, nous pouvons coder un modèle simplifié pour effectuer le calcul brute.\n",
    "\n"
   ]
  },
  {
   "cell_type": "code",
   "execution_count": 4,
   "metadata": {
    "collapsed": false
   },
   "outputs": [],
   "source": [
    "def probC(C):\n",
    "    if C:\n",
    "        return 0.001\n",
    "    return 1-0.001\n",
    "\n",
    "def probT(T):\n",
    "    if T:\n",
    "        return 0.002\n",
    "    return 1-0.002\n",
    "\n",
    "def probA(A,C,T):\n",
    "    if A:\n",
    "        if C:\n",
    "            if T:\n",
    "                return .95\n",
    "            return .94\n",
    "        if not C:\n",
    "            if T:\n",
    "                return .29\n",
    "            return .001\n",
    "    if not A:\n",
    "        if C:\n",
    "            if T:\n",
    "                return 1-.95\n",
    "            return 1-.94\n",
    "        if not C:\n",
    "            if T:\n",
    "                return 1-.29\n",
    "            return 1-.001\n",
    "\n",
    "def probM(M,A):\n",
    "    if M:\n",
    "        if A:\n",
    "            return .9\n",
    "        return .05\n",
    "    if not M:\n",
    "        if A:\n",
    "            return 1-.9\n",
    "        return 1-.05\n",
    "\n",
    "def probJ(J,A):\n",
    "    if J:\n",
    "        if A:\n",
    "            return .7\n",
    "        return .01\n",
    "    if not J:\n",
    "        if A:\n",
    "            return 1-.7\n",
    "        return 1-.01\n",
    "    \n",
    "def jointProb(C,T,A,M,J):\n",
    "    return probC(C) * probT(T) * probA(A,C,T) * probM(M,A) * probJ(J,A)"
   ]
  },
  {
   "cell_type": "code",
   "execution_count": 5,
   "metadata": {
    "collapsed": false,
    "scrolled": true
   },
   "outputs": [],
   "source": [
    "vals = [0,1]\n",
    "jointProbVals = np.zeros((2,2,2,2,2))\n",
    "\n",
    "for c in range(len(vals)):\n",
    "    for t in range(len(vals)):\n",
    "        for a in range(len(vals)):\n",
    "            for m in range(len(vals)):\n",
    "                for j in range(len(vals)):\n",
    "                    jointProbVals[c,t,a,m,j] = jointProb(c,t,a,m,j)\n",
    "\n",
    "                    "
   ]
  },
  {
   "cell_type": "code",
   "execution_count": 6,
   "metadata": {
    "collapsed": false
   },
   "outputs": [
    {
     "name": "stdout",
     "output_type": "stream",
     "text": [
      "c t a m j    index on the bar chart\n",
      "0 0 0 0 0               0\n",
      "0 0 0 0 1               1\n",
      "0 0 0 1 0               2\n",
      "0 0 0 1 1               3\n",
      "0 0 1 0 0               4\n",
      "0 0 1 0 1               5\n",
      "0 0 1 1 0               6\n",
      "0 0 1 1 1               7\n",
      "0 1 0 0 0               8\n",
      "0 1 0 0 1               9\n",
      "0 1 0 1 0               10\n",
      "0 1 0 1 1               11\n",
      "0 1 1 0 0               12\n",
      "0 1 1 0 1               13\n",
      "0 1 1 1 0               14\n",
      "0 1 1 1 1               15\n",
      "1 0 0 0 0               16\n",
      "1 0 0 0 1               17\n",
      "1 0 0 1 0               18\n",
      "1 0 0 1 1               19\n",
      "1 0 1 0 0               20\n",
      "1 0 1 0 1               21\n",
      "1 0 1 1 0               22\n",
      "1 0 1 1 1               23\n",
      "1 1 0 0 0               24\n",
      "1 1 0 0 1               25\n",
      "1 1 0 1 0               26\n",
      "1 1 0 1 1               27\n",
      "1 1 1 0 0               28\n",
      "1 1 1 0 1               29\n",
      "1 1 1 1 0               30\n",
      "1 1 1 1 1               31\n"
     ]
    }
   ],
   "source": [
    "# Since there are a lot of possibilites, we enumerate all of them form 0 to 2^5, and we associate each possibility\n",
    "# to a number on the bar chart.\n",
    "\n",
    "print('c t a m j    index on the bar chart')\n",
    "count = 0\n",
    "for c in range(len(vals)):\n",
    "    for t in range(len(vals)):\n",
    "        for a in range(len(vals)):\n",
    "            for m in range(len(vals)):\n",
    "                for j in range(len(vals)):\n",
    "                    print(c,t,a,m,j,'             ',count)\n",
    "                    count += 1"
   ]
  },
  {
   "cell_type": "code",
   "execution_count": 7,
   "metadata": {
    "collapsed": false,
    "scrolled": true
   },
   "outputs": [
    {
     "data": {
      "image/png": "[encoded data removed]",
      "text/plain": [
       "<matplotlib.figure.Figure at 0x10abbdb70>"
      ]
     },
     "metadata": {},
     "output_type": "display_data"
    }
   ],
   "source": [
    "\n",
    "N = 2**5\n",
    "ind = np.arange(N) \n",
    "\n",
    "\n",
    "p1 = plt.bar(ind, jointProbVals.flatten(), color='#d62728')\n",
    "\n",
    "plt.xlabel('Every possible combination')\n",
    "plt.ylabel('Probability value')\n",
    "plt.title('Joint Probabilities')\n",
    "\n",
    "plt.show()"
   ]
  },
  {
   "cell_type": "markdown",
   "metadata": {},
   "source": [
    "       Calculs par force brute \n",
    "\n",
    " Par la règle de Bayes nous savons que:\n",
    " P(C|M,J) = P(C,M,J) / P(M,J) \n",
    "\n",
    " Nous avons aussi:\n",
    " P(C,M,J) = sumOfAllValuesOfT * sumOfAllValuesOfA ( P(C,T,A,M,J) )"
   ]
  },
  {
   "cell_type": "code",
   "execution_count": 8,
   "metadata": {
    "collapsed": false
   },
   "outputs": [
    {
     "name": "stdout",
     "output_type": "stream",
     "text": [
      "probC_given_M_notJ:\t 0.0051298581334\n",
      "probC_given_notM_J:\t 0.00687624607342\n",
      "probC_given_M_J:\t 0.284171835364\n",
      "probC_given_notM_notJ:\t 9.01843937548e-05\n",
      "probC_given_M:\t\t 0.0162837299468\n",
      "probC_given_J:\t\t 0.0561174540389\n"
     ]
    }
   ],
   "source": [
    "\n",
    "pC_M_J= jointProbVals.sum(axis=1).sum(axis=1)\n",
    "pM_J= jointProbVals.sum(axis=0).sum(axis=0).sum(axis=0)\n",
    "\n",
    "\n",
    "print(\"probC_given_M_notJ:\\t\", pC_M_J[1,1,0]/pM_J[1,0])\n",
    "\n",
    "print(\"probC_given_notM_J:\\t\", pC_M_J[1,0,1]/pM_J[0,1])\n",
    "\n",
    "print(\"probC_given_M_J:\\t\", pC_M_J[1,1,1]/pM_J[1,1])\n",
    "\n",
    "print(\"probC_given_notM_notJ:\\t\", pC_M_J[1,0,0]/pM_J[0,0])\n",
    "\n",
    "# De nouveau par Bayes nous avons que:\n",
    "# P(C|M) = P(C,M) / P(M) \n",
    "#\n",
    "# Nous avons aussi:\n",
    "# P(C,M) = sumOfAllValuesOfT * sumOfAllValuesOfA * sumOfAllValuesOfJ ( P(C,T,A,M,J) )\n",
    "\n",
    "pC_M= jointProbVals.sum(axis=1).sum(axis=1).sum(axis=2)\n",
    "pM= jointProbVals.sum(axis=0).sum(axis=0).sum(axis=0).sum(axis=1)\n",
    "\n",
    "print(\"probC_given_M:\\t\\t\", pC_M[1,1]/pM[1])\n",
    "\n",
    "pC_J= jointProbVals.sum(axis=1).sum(axis=1).sum(axis=1)\n",
    "\n",
    "pJ= jointProbVals.sum(axis=0).sum(axis=0).sum(axis=0).sum(axis=0)\n",
    "\n",
    "print(\"probC_given_J:\\t\\t\", pC_J[1,1]/pJ[1])"
   ]
  },
  {
   "cell_type": "markdown",
   "metadata": {},
   "source": [
    "    Calcul des marginales inconditionelles\n",
    " Nous avons deja calculé P(J) et P(M), nous allons procéder aux autres \n",
    " variables avec la même stratégie.x"
   ]
  },
  {
   "cell_type": "code",
   "execution_count": 9,
   "metadata": {
    "collapsed": false
   },
   "outputs": [
    {
     "name": "stdout",
     "output_type": "stream",
     "text": [
      "Variable \t [ P(0)    P(1)]\n",
      "P(C) \t\t [ 0.999  0.001]\n",
      "P(T) \t\t [ 0.998  0.002]\n",
      "P(A) \t\t [ 0.99748356  0.00251644]\n",
      "P(M) \t\t [ 0.94786102  0.05213898]\n",
      "P(J) \t\t [ 0.98826366  0.01173634]\n"
     ]
    }
   ],
   "source": [
    "\n",
    "\n",
    "pC= jointProbVals.sum(axis=1).sum(axis=1).sum(axis=1).sum(axis=1)\n",
    "pT= jointProbVals.sum(axis=0).sum(axis=1).sum(axis=1).sum(axis=1)\n",
    "pA= jointProbVals.sum(axis=0).sum(axis=0).sum(axis=1).sum(axis=1)\n",
    "\n",
    "print(\"Variable \\t [ P(0)    P(1)]\")\n",
    "print(\"P(C) \\t\\t\", pC)\n",
    "print(\"P(T) \\t\\t\", pT)\n",
    "print(\"P(A) \\t\\t\", pA)\n",
    "print(\"P(M) \\t\\t\", pM)\n",
    "print(\"P(J) \\t\\t\", pJ)"
   ]
  },
  {
   "cell_type": "markdown",
   "metadata": {},
   "source": [
    "Pour réussir à calculer les marginales, nous partons à chaque fois de la probabilité jointe de tout le réseau, puisque celle-ci contient toute l'information nécessaire. Pour par caluler la probabilité que Jean apelle (J), nous utilisons cette équation:\n",
    "\n",
    "$$P(J) = \\sum_{c}\\sum_{t}\\sum_{a}\\sum_{m} P(c,t,a,m,j)$$\n",
    "\n",
    "Nous sommons ici sur toutes les valeurs possibles du reste des variables pour marginaliser la probabilité qui nous intéresse.\n",
    "Pour obtenir une probabilité conjointe, la stratégie est la même, mais nous devons d'abord réarranger l'epxression:\n",
    "\n",
    "$$P(C|J) = \\frac{P(C,J)}{P(J)}$$\n",
    "\n",
    "Nous savons déjà comment calculer P(J), il nous reste alors à calculer P(C,J). Cela se fait comme suit:\n",
    "\n",
    "$$P(C,J) = \\sum_{t}\\sum_{a}\\sum_{m} P(c,t,a,m,j)$$"
   ]
  }
 ],
 "metadata": {
  "anaconda-cloud": {},
  "kernelspec": {
   "display_name": "Python 3",
   "language": "python",
   "name": "python3"
  },
  "language_info": {
   "codemirror_mode": {
    "name": "ipython",
    "version": 3
   },
   "file_extension": ".py",
   "mimetype": "text/x-python",
   "name": "python",
   "nbconvert_exporter": "python",
   "pygments_lexer": "ipython3",
   "version": "3.6.0"
  }
 },
 "nbformat": 4,
 "nbformat_minor": 1
}
